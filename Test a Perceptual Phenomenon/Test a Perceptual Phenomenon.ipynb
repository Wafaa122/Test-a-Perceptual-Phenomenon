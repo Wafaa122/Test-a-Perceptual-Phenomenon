{
 "cells": [
  {
   "cell_type": "markdown",
   "metadata": {},
   "source": [
    "### Analyzing the Stroop Effect\n",
    "Perform the analysis in the space below. Remember to follow [the instructions](https://docs.google.com/document/d/1-OkpZLjG_kX9J6LIQ5IltsqMzVWjh36QpnP2RYpVdPU/pub?embedded=True) and review the [project rubric](https://review.udacity.com/#!/rubrics/71/view) before submitting. Once you've completed the analysis and write-up, download this file as a PDF or HTML file, upload that PDF/HTML into the workspace here (click on the orange Jupyter icon in the upper left then Upload), then use the Submit Project button at the bottom of this page. This will create a zip file containing both this .ipynb doc and the PDF/HTML doc that will be submitted for your project.\n",
    "\n",
    "\n",
    "(1) What is the independent variable? What is the dependent variable?"
   ]
  },
  {
   "cell_type": "markdown",
   "metadata": {},
   "source": [
    "The independent variables are the test conditions (Congurent and Incongurent).\n",
    "The Dependent variable: the time it takes to name the ink colors in equally-sized lists."
   ]
  },
  {
   "cell_type": "markdown",
   "metadata": {},
   "source": [
    "(2) What is an appropriate set of hypotheses for this task? Specify your null and alternative hypotheses, and clearly define any notation used. Justify your choices."
   ]
  },
  {
   "cell_type": "markdown",
   "metadata": {},
   "source": [
    "The null hypothesis should be that the mean time for colour recognition for congruent words is equal to or greater than the mean time for incongruent words, therefore implying a one-tailed test. The alternative hypothesis should be that the congruent words mean is less than the incongruent words mean.\n",
    "\n",
    "H0: μC ≥ μI\n",
    "\n",
    "HA: μC < μI\n",
    "\n",
    "where μ is a population mean, the subscript \"C\" represents the congruent words condition, and the subscript \"I\" represents the incongruent words condition.\n",
    "\n",
    "A one-tailed, dependent samples t-test comparing the difference in means (the time to name the ink colors for congruent words and incongruent words) should be performed. With this test, we seek to determine whether there is enough evidence in the provided sample of data to infer that the congruent words mean colour recognition time is less than the incongruent words mean colour recognition time for the entire population and not just the sample data.\n",
    "\n",
    "A t-test is appropriate because the population variance is unknown and the sample size is less than 30. When the sample size is less than 30, the sample data no longer approximate a normal distribution, which makes the use of a Z-value inappropriate.1 The following assumptions are required for t-tests for dependent means:2\n",
    "\n",
    "Interval or ratio scale of measurement (approximately interval)\n",
    "Random sampling from a defined population\n",
    "Samples or sets of data used to produce the difference scores are linked in the population through repeated measurement, natural association, or matching\n",
    "Scores are normally distributed in the population; difference scores are normally distributed\n",
    "A one-tailed test is appropriate under the assumption that incongruent word conditions will not improve recognition times, which is intuitive. The one-tailed test allows for a more scrutinous examination of the negative impact of incongruent word conditions on recognition times.\n",
    "\n",
    "The t-test should be of the dependent samples variety because the same subject is exposed to two conditions and tested for each, which are the defining criteria for \"within-subjects\" or \"repeated-measures\" statistical tests.3\n",
    "\n",
    "Now it’s your chance to try out the Stroop task for yourself. Go to this link, which has a Java-based applet for performing the Stroop task. Record the times that you received on the task (you do not need to submit your times to the site.) Now, download this dataset which contains results from a number of participants in the task. Each row of the dataset contains the performance for one participant, with the first number their results on the congruent task and the second number their performance on the incongruent task."
   ]
  },
  {
   "cell_type": "markdown",
   "metadata": {},
   "source": [
    "(3) Report some descriptive statistics regarding this dataset. Include at least one measure of central tendency and at least one measure of variability. The name of the data file is 'stroopdata.csv'."
   ]
  },
  {
   "cell_type": "code",
   "execution_count": 27,
   "metadata": {},
   "outputs": [
    {
     "data": {
      "text/html": [
       "<div>\n",
       "<style>\n",
       "    .dataframe thead tr:only-child th {\n",
       "        text-align: right;\n",
       "    }\n",
       "\n",
       "    .dataframe thead th {\n",
       "        text-align: left;\n",
       "    }\n",
       "\n",
       "    .dataframe tbody tr th {\n",
       "        vertical-align: top;\n",
       "    }\n",
       "</style>\n",
       "<table border=\"1\" class=\"dataframe\">\n",
       "  <thead>\n",
       "    <tr style=\"text-align: right;\">\n",
       "      <th></th>\n",
       "      <th>Congruent</th>\n",
       "      <th>Incongruent</th>\n",
       "    </tr>\n",
       "  </thead>\n",
       "  <tbody>\n",
       "    <tr>\n",
       "      <th>0</th>\n",
       "      <td>12.079</td>\n",
       "      <td>19.278</td>\n",
       "    </tr>\n",
       "    <tr>\n",
       "      <th>1</th>\n",
       "      <td>16.791</td>\n",
       "      <td>18.741</td>\n",
       "    </tr>\n",
       "    <tr>\n",
       "      <th>2</th>\n",
       "      <td>9.564</td>\n",
       "      <td>21.214</td>\n",
       "    </tr>\n",
       "    <tr>\n",
       "      <th>3</th>\n",
       "      <td>8.630</td>\n",
       "      <td>15.687</td>\n",
       "    </tr>\n",
       "    <tr>\n",
       "      <th>4</th>\n",
       "      <td>14.669</td>\n",
       "      <td>22.803</td>\n",
       "    </tr>\n",
       "  </tbody>\n",
       "</table>\n",
       "</div>"
      ],
      "text/plain": [
       "   Congruent  Incongruent\n",
       "0     12.079       19.278\n",
       "1     16.791       18.741\n",
       "2      9.564       21.214\n",
       "3      8.630       15.687\n",
       "4     14.669       22.803"
      ]
     },
     "execution_count": 27,
     "metadata": {},
     "output_type": "execute_result"
    }
   ],
   "source": [
    "import pandas as pd\n",
    "import numpy as np\n",
    "import matplotlib.pyplot as plt\n",
    "import plotly.plotly as py\n",
    "import seaborn as sns\n",
    "import scipy.stats as stats\n",
    "%matplotlib inline\n",
    "\n",
    "df = pd.read_csv('stroopdata.csv')\n",
    "df.head()"
   ]
  },
  {
   "cell_type": "markdown",
   "metadata": {},
   "source": [
    "I calculated the means of reaction time for Congruent and Incongruent test conditions."
   ]
  },
  {
   "cell_type": "code",
   "execution_count": 3,
   "metadata": {},
   "outputs": [
    {
     "name": "stdout",
     "output_type": "stream",
     "text": [
      "14.051125\n"
     ]
    }
   ],
   "source": [
    "congruentMean = df['Congruent'].mean()\n",
    "print(congruentMean)"
   ]
  },
  {
   "cell_type": "code",
   "execution_count": 4,
   "metadata": {},
   "outputs": [
    {
     "name": "stdout",
     "output_type": "stream",
     "text": [
      "22.0159166667\n"
     ]
    }
   ],
   "source": [
    "incongruentMean = df['Incongruent'].mean()\n",
    "print(incongruentMean)"
   ]
  },
  {
   "cell_type": "markdown",
   "metadata": {},
   "source": [
    "I  want to use Python's statistics module to get the sample standard deviation and calculated the standard deviation of reaction time for Congruent and Incongruent test conditions"
   ]
  },
  {
   "cell_type": "code",
   "execution_count": 5,
   "metadata": {},
   "outputs": [
    {
     "name": "stdout",
     "output_type": "stream",
     "text": [
      "3.5593579576451955\n"
     ]
    }
   ],
   "source": [
    "congruentList = df['Congruent']\n",
    "\n",
    "sampleStdCon = statistics.stdev(congruentList)\n",
    "\n",
    "print(sampleStdCon)"
   ]
  },
  {
   "cell_type": "code",
   "execution_count": 6,
   "metadata": {},
   "outputs": [
    {
     "name": "stdout",
     "output_type": "stream",
     "text": [
      "4.7970571224691385\n"
     ]
    }
   ],
   "source": [
    "incongruentList = df['Incongruent']\n",
    "\n",
    "sampleStdIncon = statistics.stdev(incongruentList)\n",
    "\n",
    "print(sampleStdIncon)"
   ]
  },
  {
   "cell_type": "markdown",
   "metadata": {},
   "source": [
    "I used Python's statistics module to calculated the sample variance of reaction time for Congruent and Incongruent test conditions."
   ]
  },
  {
   "cell_type": "code",
   "execution_count": 7,
   "metadata": {},
   "outputs": [
    {
     "data": {
      "text/plain": [
       "12.669029070652176"
      ]
     },
     "execution_count": 7,
     "metadata": {},
     "output_type": "execute_result"
    }
   ],
   "source": [
    "statistics.variance(congruentList)"
   ]
  },
  {
   "cell_type": "code",
   "execution_count": 8,
   "metadata": {},
   "outputs": [
    {
     "data": {
      "text/plain": [
       "23.011757036231888"
      ]
     },
     "execution_count": 8,
     "metadata": {},
     "output_type": "execute_result"
    }
   ],
   "source": [
    "statistics.variance(incongruentList)"
   ]
  },
  {
   "cell_type": "markdown",
   "metadata": {},
   "source": [
    "I also calculated the difference of avareges to get the observed difference between the two test cases."
   ]
  },
  {
   "cell_type": "code",
   "execution_count": 12,
   "metadata": {},
   "outputs": [
    {
     "name": "stdout",
     "output_type": "stream",
     "text": [
      "7.96479166667\n"
     ]
    }
   ],
   "source": [
    "congruentMean = df['Congruent'].mean()\n",
    "incongruentMean = df['Incongruent'].mean()\n",
    "obsDiffMean = incongruentMean - congruentMean\n",
    "print(obsDiffMean)"
   ]
  },
  {
   "cell_type": "markdown",
   "metadata": {},
   "source": [
    "(4) Provide one or two visualizations that show the distribution of the sample data. Write one or two sentences noting what you observe about the plot or plots."
   ]
  },
  {
   "cell_type": "markdown",
   "metadata": {
    "collapsed": true
   },
   "source": [
    "At first I made a visualization about the ditribution of the reaction times for congruent and incongruent condition. I used the congruent_list and incongruent_list variables. According to my results, the reaction time can be longer under incongruent word conditions."
   ]
  },
  {
   "cell_type": "code",
   "execution_count": 28,
   "metadata": {},
   "outputs": [
    {
     "data": {
      "image/png": "[encoded data removed]",
      "text/plain": [
       "<matplotlib.figure.Figure at 0x7f6f89b6dd30>"
      ]
     },
     "metadata": {
      "needs_background": "light"
     },
     "output_type": "display_data"
    }
   ],
   "source": [
    "congruentList = df['Congruent']\n",
    "incongruentList = df['Incongruent']\n",
    "plt.hist(congruentList , alpha=0.8, label='RT for Congruent Words')\n",
    "plt.hist(incongruentList , alpha=0.8, label='RT for Incongruent Words')\n",
    "plt.xlabel('Reaction Time (Sec)')\n",
    "plt.ylabel('Number of Participants')\n",
    "plt.title('Distribution of RT')\n",
    "plt.legend(loc='upper right')\n",
    "plt.show()"
   ]
  },
  {
   "cell_type": "code",
   "execution_count": 13,
   "metadata": {},
   "outputs": [
    {
     "data": {
      "text/plain": [
       "[<matplotlib.lines.Line2D at 0x7f6f8a131e48>]"
      ]
     },
     "execution_count": 13,
     "metadata": {},
     "output_type": "execute_result"
    },
    {
     "data": {
      "image/png": "[encoded data removed]",
      "text/plain": [
       "<matplotlib.figure.Figure at 0x7f6f8a03f2b0>"
      ]
     },
     "metadata": {
      "needs_background": "light"
     },
     "output_type": "display_data"
    }
   ],
   "source": [
    "# plot the differences between the average reaction time\n",
    "congruentList = df['Congruent']\n",
    "incongruentList = df['Incongruent']\n",
    "diff = incongruentList - congruentList\n",
    "plt.plot(diff, color='red', linestyle = 'dashdot')"
   ]
  },
  {
   "cell_type": "markdown",
   "metadata": {},
   "source": [
    "(5)  Now, perform the statistical test and report your results. What is your confidence level or Type I error associated with your test? What is your conclusion regarding the hypotheses you set up? Did the results match up with your expectations? **Hint:**  Think about what is being measured on each individual, and what statistic best captures how an individual reacts in each environment."
   ]
  },
  {
   "cell_type": "code",
   "execution_count": 28,
   "metadata": {},
   "outputs": [],
   "source": [
    "# Calculte the mean of each test\n",
    "mean_congurent = df['Congruent'].mean()\n",
    "mean_incongurant = df['Incongruent'].mean()\n",
    "\n",
    "# Calculte a point estimate using (mean_congurent - mean_incongurant) / Average of differences\n",
    "estimate_point = mean_congurent - mean_incongurant\n",
    "\n",
    "# Calculate Square of Sums of difference of sample means\n",
    "ssd = sum( ( (df['Congruent'] - df['Incongruent']) - estimate_point ) ** 2  )\n",
    "\n",
    "# Calculate the variance of difference\n",
    "vd = ssd / (24 -1)\n",
    "\n",
    "# Calculate Standard Deviation of Differences\n",
    "sdd = vd ** (1/2)\n",
    "############################################\n",
    "# We can get this result easily using pandas std() \n",
    "# but before we have to add a column this way\n",
    "# stroop_data['difference'] = stroop_data['Incongruent'] - stroop_data['Congruent']\n",
    "# sdt = stroop_data.std()\n",
    "# sdd = sdt['difference']\n",
    "############################################\n",
    "\n",
    "#  calculate the t-statistic for the difference\n",
    "tstatistic = estimate_point / ( sdd / ( 24 ** (1/2) ) )\n",
    "\n",
    "############################################\n",
    "# We could find t-statistic easily importing stats from scipy.stats\n",
    "# import scipy.stats as stats\n",
    "# stats.ttest_rel(a = stroop_data['Congruent'], b = stroop_data['Incongruent'])\n",
    "# Ttest_relResult(statistic=-8.020706944109957, pvalue=4.1030005857111781e-08)\n",
    "# then we get the tstatistic  and the p value\n",
    "############################################\n",
    "\n",
    "# Calculate the Degrees of Freedom (n -1)\n",
    "df = 23\n",
    "\n",
    "# Calculte the chances of seeing a result as extreme as the one we observed (known as the p-value)\n",
    "pvalue = stats.t.cdf(x = tstatistic, df = 23 ) * 2 \n",
    "\n",
    "# Clacute t-critical for alpha level 0.005 (aiming to 99% confidence level)\n",
    "alpha = 0.005\n",
    "tcritical = stats.t.ppf(q=alpha,df=23)"
   ]
  },
  {
   "cell_type": "code",
   "execution_count": 29,
   "metadata": {},
   "outputs": [
    {
     "name": "stdout",
     "output_type": "stream",
     "text": [
      "Degrees of Freedom : df = 23\n",
      "Alpha- level : a = 0.005\n",
      "t-critical values :  tc  = 2.80733568377 -2.80733568377\n",
      "t-Statistic(df) : t(23) = -8.02070694411\n",
      "p-value : p = 4.10300058571e-08\n"
     ]
    }
   ],
   "source": [
    "print(\"Degrees of Freedom : df =\", df)\n",
    "print(\"Alpha- level : a =\", alpha)\n",
    "print(\"t-critical values :  tc  =\", -tcritical, tcritical)\n",
    "print(\"t-Statistic(df) : t(23) =\", tstatistic)\n",
    "print(\"p-value : p =\", pvalue)"
   ]
  },
  {
   "cell_type": "markdown",
   "metadata": {},
   "source": [
    "f the calculated t-statistic is greater than the critical t-value, the test concludes that there is a statistically significant difference between the two populations. Therefore, you reject the null hypothesis that there is no statistically significant difference between the two populations."
   ]
  },
  {
   "cell_type": "markdown",
   "metadata": {},
   "source": [
    "# We observe that:\n",
    "  ## The t-Statistic is clearly smaller than the negative t-critical value\n",
    "  ## In the critical region with a p-value < 0.0001"
   ]
  },
  {
   "cell_type": "markdown",
   "metadata": {},
   "source": [
    "Therefore we reject the Null Hypothesis with a 99% Confidence level and conclude that there is a significant difference in the scores for congruent and incongruent tasks.\n",
    "The results match up with our observations and expectations that there is indeed a statistically significant difference in the response time to perform the incongruent test compared to the congruent test."
   ]
  },
  {
   "cell_type": "markdown",
   "metadata": {},
   "source": [
    "# Sourse :\n",
    "http://davidventuri.github.io/udacity-dand-p1/"
   ]
  },
  {
   "cell_type": "markdown",
   "metadata": {},
   "source": [
    "(6) Optional: What do you think is responsible for the effects observed? Can you think of an alternative or similar task that would result in a similar effect? Some research about the problem will be helpful for thinking about these two questions!"
   ]
  },
  {
   "cell_type": "markdown",
   "metadata": {},
   "source": [
    "--write answer here--"
   ]
  }
 ],
 "metadata": {
  "kernelspec": {
   "display_name": "Python 3",
   "language": "python",
   "name": "python3"
  },
  "language_info": {
   "codemirror_mode": {
    "name": "ipython",
    "version": 3
   },
   "file_extension": ".py",
   "mimetype": "text/x-python",
   "name": "python",
   "nbconvert_exporter": "python",
   "pygments_lexer": "ipython3",
   "version": "3.6.3"
  }
 },
 "nbformat": 4,
 "nbformat_minor": 2
}
